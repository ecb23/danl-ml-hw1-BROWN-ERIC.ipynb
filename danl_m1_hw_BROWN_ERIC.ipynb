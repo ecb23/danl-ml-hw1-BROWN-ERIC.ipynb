{
  "nbformat": 4,
  "nbformat_minor": 0,
  "metadata": {
    "colab": {
      "provenance": [],
      "authorship_tag": "ABX9TyN7NYZ8iG6V3vv9vwdEcMdN",
      "include_colab_link": true
    },
    "kernelspec": {
      "name": "python3",
      "display_name": "Python 3"
    },
    "language_info": {
      "name": "python"
    }
  },
  "cells": [
    {
      "cell_type": "markdown",
      "metadata": {
        "id": "view-in-github",
        "colab_type": "text"
      },
      "source": [
        "<a href=\"https://colab.research.google.com/github/ecb23/danl-ml-hw1-BROWN-ERIC.ipynb/blob/main/danl_m1_hw_BROWN_ERIC.ipynb\" target=\"_parent\"><img src=\"https://colab.research.google.com/assets/colab-badge.svg\" alt=\"Open In Colab\"/></a>"
      ]
    },
    {
      "cell_type": "code",
      "execution_count": 2,
      "metadata": {
        "colab": {
          "base_uri": "https://localhost:8080/"
        },
        "id": "78ymhVgnAJuN",
        "outputId": "596ce156-91c2-4468-b8d5-426ab5b4ec51"
      },
      "outputs": [
        {
          "output_type": "execute_result",
          "data": {
            "text/plain": [
              "[2, 3, 4]"
            ]
          },
          "metadata": {},
          "execution_count": 2
        }
      ],
      "source": [
        "#Question 1\n",
        "x=5\n",
        "\n",
        "\n",
        "\n"
      ]
    },
    {
      "cell_type": "code",
      "source": [
        "#Question 2\n",
        "\n",
        "lst = [1, 2, 3, 4, 5]\n",
        "lst[1:4]\n"
      ],
      "metadata": {
        "id": "Yp1au9K1D0tk"
      },
      "execution_count": null,
      "outputs": []
    },
    {
      "cell_type": "code",
      "source": [
        "#Question 3\n",
        "fruit_dict= {\n",
        "    \"apple\": 5 ,\n",
        "    \"banana\": 3 ,\n",
        "    \"cherry\": 7 }\n",
        "banana_value = fruit_dict[\"banana\"]\n",
        "print(banana_value)\n",
        "\n"
      ],
      "metadata": {
        "colab": {
          "base_uri": "https://localhost:8080/"
        },
        "id": "ypIZ-fxTf4rw",
        "outputId": "641e36b5-e1b8-4daf-a31e-b5ac19282dc7"
      },
      "execution_count": 1,
      "outputs": [
        {
          "output_type": "stream",
          "name": "stdout",
          "text": [
            "3\n"
          ]
        }
      ]
    },
    {
      "cell_type": "code",
      "source": [
        "#Question 4 ##need to explain\n",
        "True and False\n",
        "\n",
        "True or False\n",
        "\n",
        "not (100 == '100' and 25 < 36)"
      ],
      "metadata": {
        "colab": {
          "base_uri": "https://localhost:8080/"
        },
        "id": "VdZiYmtQf6vb",
        "outputId": "34cdcab0-fd00-4cd4-83f2-b38ec2465008"
      },
      "execution_count": 2,
      "outputs": [
        {
          "output_type": "execute_result",
          "data": {
            "text/plain": [
              "True"
            ]
          },
          "metadata": {},
          "execution_count": 2
        }
      ]
    },
    {
      "cell_type": "code",
      "source": [
        "#Question 5 'if-else-else chain'\n",
        "#-->check out lecture 1 34'/ 53', line 48\n",
        "score = 75\n",
        "\n",
        "if score > 90:\n",
        "    print(\"well done\")\n",
        "elif score >= 40 and  score <= 90:\n",
        "    print(\"good\")\n",
        "else:\n",
        "    print(\"bad luck\")\n"
      ],
      "metadata": {
        "colab": {
          "base_uri": "https://localhost:8080/"
        },
        "id": "Nvqy0od0f-aa",
        "outputId": "bb21d97e-0842-4498-e1ff-b1e53841b2c7"
      },
      "execution_count": 4,
      "outputs": [
        {
          "output_type": "stream",
          "name": "stdout",
          "text": [
            "good\n"
          ]
        }
      ]
    },
    {
      "cell_type": "code",
      "source": [
        "#Question 6\n",
        "\n",
        "sentence= \"coding for data analytics\"\n",
        "\n",
        "\n",
        "words= sentence.split\n",
        "#??"
      ],
      "metadata": {
        "id": "ROfnbwkhgAcw"
      },
      "execution_count": null,
      "outputs": []
    },
    {
      "cell_type": "code",
      "source": [
        "#Question 7\n",
        "#to import the 'math' module in python script, use the 'import'\n",
        "#key word followed by 'math'\n",
        "\n",
        "import math\n",
        "\n",
        "#next, to utilize 'math' module's functions, type 'math', followed by\n",
        "#our desired function-->\n",
        "\n",
        "math.sqrt(16)"
      ],
      "metadata": {
        "colab": {
          "base_uri": "https://localhost:8080/"
        },
        "id": "kHMLMtJFgCtl",
        "outputId": "c08ac1dc-582e-4a4e-a2fe-1f342107da59"
      },
      "execution_count": 4,
      "outputs": [
        {
          "output_type": "execute_result",
          "data": {
            "text/plain": [
              "4.0"
            ]
          },
          "metadata": {},
          "execution_count": 4
        }
      ]
    }
  ]
}